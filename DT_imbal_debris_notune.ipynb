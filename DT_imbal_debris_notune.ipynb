{
 "cells": [
  {
   "cell_type": "code",
   "execution_count": 1,
   "id": "de3e8d61-ec6c-4921-afc5-c575ce8fbe2d",
   "metadata": {},
   "outputs": [],
   "source": [
    "import pandas as pd\n",
    "import seaborn as sns\n",
    "import matplotlib.pyplot as plt\n",
    "import numpy as np\n",
    "import os\n",
    "import glob\n",
    "from sklearn import metrics\n",
    "pd.set_option('display.max_columns', None)"
   ]
  },
  {
   "cell_type": "code",
   "execution_count": 2,
   "id": "3ee7925d-b84b-4786-84f9-b19352d2dbd1",
   "metadata": {},
   "outputs": [
    {
     "ename": "FileNotFoundError",
     "evalue": "[Errno 2] No such file or directory: 'C:/Users/svenj/Documents/Uni/Bachelorarbeit/Codes/data_all_reset.csv'",
     "output_type": "error",
     "traceback": [
      "\u001b[1;31m---------------------------------------------------------------------------\u001b[0m",
      "\u001b[1;31mFileNotFoundError\u001b[0m                         Traceback (most recent call last)",
      "Cell \u001b[1;32mIn[2], line 5\u001b[0m\n\u001b[0;32m      2\u001b[0m file_path \u001b[38;5;241m=\u001b[39m \u001b[38;5;124m'\u001b[39m\u001b[38;5;124mC:/Users/svenj/Documents/Uni/Bachelorarbeit/Codes/data_all_reset.csv\u001b[39m\u001b[38;5;124m'\u001b[39m\n\u001b[0;32m      4\u001b[0m \u001b[38;5;66;03m# Read the CSV file into a DataFrame\u001b[39;00m\n\u001b[1;32m----> 5\u001b[0m data_all_reset \u001b[38;5;241m=\u001b[39m pd\u001b[38;5;241m.\u001b[39mread_csv(file_path)\n\u001b[0;32m      6\u001b[0m data_all_reset\n",
      "File \u001b[1;32m~\\anaconda3\\Lib\\site-packages\\pandas\\io\\parsers\\readers.py:912\u001b[0m, in \u001b[0;36mread_csv\u001b[1;34m(filepath_or_buffer, sep, delimiter, header, names, index_col, usecols, dtype, engine, converters, true_values, false_values, skipinitialspace, skiprows, skipfooter, nrows, na_values, keep_default_na, na_filter, verbose, skip_blank_lines, parse_dates, infer_datetime_format, keep_date_col, date_parser, date_format, dayfirst, cache_dates, iterator, chunksize, compression, thousands, decimal, lineterminator, quotechar, quoting, doublequote, escapechar, comment, encoding, encoding_errors, dialect, on_bad_lines, delim_whitespace, low_memory, memory_map, float_precision, storage_options, dtype_backend)\u001b[0m\n\u001b[0;32m    899\u001b[0m kwds_defaults \u001b[38;5;241m=\u001b[39m _refine_defaults_read(\n\u001b[0;32m    900\u001b[0m     dialect,\n\u001b[0;32m    901\u001b[0m     delimiter,\n\u001b[1;32m   (...)\u001b[0m\n\u001b[0;32m    908\u001b[0m     dtype_backend\u001b[38;5;241m=\u001b[39mdtype_backend,\n\u001b[0;32m    909\u001b[0m )\n\u001b[0;32m    910\u001b[0m kwds\u001b[38;5;241m.\u001b[39mupdate(kwds_defaults)\n\u001b[1;32m--> 912\u001b[0m \u001b[38;5;28;01mreturn\u001b[39;00m _read(filepath_or_buffer, kwds)\n",
      "File \u001b[1;32m~\\anaconda3\\Lib\\site-packages\\pandas\\io\\parsers\\readers.py:577\u001b[0m, in \u001b[0;36m_read\u001b[1;34m(filepath_or_buffer, kwds)\u001b[0m\n\u001b[0;32m    574\u001b[0m _validate_names(kwds\u001b[38;5;241m.\u001b[39mget(\u001b[38;5;124m\"\u001b[39m\u001b[38;5;124mnames\u001b[39m\u001b[38;5;124m\"\u001b[39m, \u001b[38;5;28;01mNone\u001b[39;00m))\n\u001b[0;32m    576\u001b[0m \u001b[38;5;66;03m# Create the parser.\u001b[39;00m\n\u001b[1;32m--> 577\u001b[0m parser \u001b[38;5;241m=\u001b[39m TextFileReader(filepath_or_buffer, \u001b[38;5;241m*\u001b[39m\u001b[38;5;241m*\u001b[39mkwds)\n\u001b[0;32m    579\u001b[0m \u001b[38;5;28;01mif\u001b[39;00m chunksize \u001b[38;5;129;01mor\u001b[39;00m iterator:\n\u001b[0;32m    580\u001b[0m     \u001b[38;5;28;01mreturn\u001b[39;00m parser\n",
      "File \u001b[1;32m~\\anaconda3\\Lib\\site-packages\\pandas\\io\\parsers\\readers.py:1407\u001b[0m, in \u001b[0;36mTextFileReader.__init__\u001b[1;34m(self, f, engine, **kwds)\u001b[0m\n\u001b[0;32m   1404\u001b[0m     \u001b[38;5;28mself\u001b[39m\u001b[38;5;241m.\u001b[39moptions[\u001b[38;5;124m\"\u001b[39m\u001b[38;5;124mhas_index_names\u001b[39m\u001b[38;5;124m\"\u001b[39m] \u001b[38;5;241m=\u001b[39m kwds[\u001b[38;5;124m\"\u001b[39m\u001b[38;5;124mhas_index_names\u001b[39m\u001b[38;5;124m\"\u001b[39m]\n\u001b[0;32m   1406\u001b[0m \u001b[38;5;28mself\u001b[39m\u001b[38;5;241m.\u001b[39mhandles: IOHandles \u001b[38;5;241m|\u001b[39m \u001b[38;5;28;01mNone\u001b[39;00m \u001b[38;5;241m=\u001b[39m \u001b[38;5;28;01mNone\u001b[39;00m\n\u001b[1;32m-> 1407\u001b[0m \u001b[38;5;28mself\u001b[39m\u001b[38;5;241m.\u001b[39m_engine \u001b[38;5;241m=\u001b[39m \u001b[38;5;28mself\u001b[39m\u001b[38;5;241m.\u001b[39m_make_engine(f, \u001b[38;5;28mself\u001b[39m\u001b[38;5;241m.\u001b[39mengine)\n",
      "File \u001b[1;32m~\\anaconda3\\Lib\\site-packages\\pandas\\io\\parsers\\readers.py:1661\u001b[0m, in \u001b[0;36mTextFileReader._make_engine\u001b[1;34m(self, f, engine)\u001b[0m\n\u001b[0;32m   1659\u001b[0m     \u001b[38;5;28;01mif\u001b[39;00m \u001b[38;5;124m\"\u001b[39m\u001b[38;5;124mb\u001b[39m\u001b[38;5;124m\"\u001b[39m \u001b[38;5;129;01mnot\u001b[39;00m \u001b[38;5;129;01min\u001b[39;00m mode:\n\u001b[0;32m   1660\u001b[0m         mode \u001b[38;5;241m+\u001b[39m\u001b[38;5;241m=\u001b[39m \u001b[38;5;124m\"\u001b[39m\u001b[38;5;124mb\u001b[39m\u001b[38;5;124m\"\u001b[39m\n\u001b[1;32m-> 1661\u001b[0m \u001b[38;5;28mself\u001b[39m\u001b[38;5;241m.\u001b[39mhandles \u001b[38;5;241m=\u001b[39m get_handle(\n\u001b[0;32m   1662\u001b[0m     f,\n\u001b[0;32m   1663\u001b[0m     mode,\n\u001b[0;32m   1664\u001b[0m     encoding\u001b[38;5;241m=\u001b[39m\u001b[38;5;28mself\u001b[39m\u001b[38;5;241m.\u001b[39moptions\u001b[38;5;241m.\u001b[39mget(\u001b[38;5;124m\"\u001b[39m\u001b[38;5;124mencoding\u001b[39m\u001b[38;5;124m\"\u001b[39m, \u001b[38;5;28;01mNone\u001b[39;00m),\n\u001b[0;32m   1665\u001b[0m     compression\u001b[38;5;241m=\u001b[39m\u001b[38;5;28mself\u001b[39m\u001b[38;5;241m.\u001b[39moptions\u001b[38;5;241m.\u001b[39mget(\u001b[38;5;124m\"\u001b[39m\u001b[38;5;124mcompression\u001b[39m\u001b[38;5;124m\"\u001b[39m, \u001b[38;5;28;01mNone\u001b[39;00m),\n\u001b[0;32m   1666\u001b[0m     memory_map\u001b[38;5;241m=\u001b[39m\u001b[38;5;28mself\u001b[39m\u001b[38;5;241m.\u001b[39moptions\u001b[38;5;241m.\u001b[39mget(\u001b[38;5;124m\"\u001b[39m\u001b[38;5;124mmemory_map\u001b[39m\u001b[38;5;124m\"\u001b[39m, \u001b[38;5;28;01mFalse\u001b[39;00m),\n\u001b[0;32m   1667\u001b[0m     is_text\u001b[38;5;241m=\u001b[39mis_text,\n\u001b[0;32m   1668\u001b[0m     errors\u001b[38;5;241m=\u001b[39m\u001b[38;5;28mself\u001b[39m\u001b[38;5;241m.\u001b[39moptions\u001b[38;5;241m.\u001b[39mget(\u001b[38;5;124m\"\u001b[39m\u001b[38;5;124mencoding_errors\u001b[39m\u001b[38;5;124m\"\u001b[39m, \u001b[38;5;124m\"\u001b[39m\u001b[38;5;124mstrict\u001b[39m\u001b[38;5;124m\"\u001b[39m),\n\u001b[0;32m   1669\u001b[0m     storage_options\u001b[38;5;241m=\u001b[39m\u001b[38;5;28mself\u001b[39m\u001b[38;5;241m.\u001b[39moptions\u001b[38;5;241m.\u001b[39mget(\u001b[38;5;124m\"\u001b[39m\u001b[38;5;124mstorage_options\u001b[39m\u001b[38;5;124m\"\u001b[39m, \u001b[38;5;28;01mNone\u001b[39;00m),\n\u001b[0;32m   1670\u001b[0m )\n\u001b[0;32m   1671\u001b[0m \u001b[38;5;28;01massert\u001b[39;00m \u001b[38;5;28mself\u001b[39m\u001b[38;5;241m.\u001b[39mhandles \u001b[38;5;129;01mis\u001b[39;00m \u001b[38;5;129;01mnot\u001b[39;00m \u001b[38;5;28;01mNone\u001b[39;00m\n\u001b[0;32m   1672\u001b[0m f \u001b[38;5;241m=\u001b[39m \u001b[38;5;28mself\u001b[39m\u001b[38;5;241m.\u001b[39mhandles\u001b[38;5;241m.\u001b[39mhandle\n",
      "File \u001b[1;32m~\\anaconda3\\Lib\\site-packages\\pandas\\io\\common.py:859\u001b[0m, in \u001b[0;36mget_handle\u001b[1;34m(path_or_buf, mode, encoding, compression, memory_map, is_text, errors, storage_options)\u001b[0m\n\u001b[0;32m    854\u001b[0m \u001b[38;5;28;01melif\u001b[39;00m \u001b[38;5;28misinstance\u001b[39m(handle, \u001b[38;5;28mstr\u001b[39m):\n\u001b[0;32m    855\u001b[0m     \u001b[38;5;66;03m# Check whether the filename is to be opened in binary mode.\u001b[39;00m\n\u001b[0;32m    856\u001b[0m     \u001b[38;5;66;03m# Binary mode does not support 'encoding' and 'newline'.\u001b[39;00m\n\u001b[0;32m    857\u001b[0m     \u001b[38;5;28;01mif\u001b[39;00m ioargs\u001b[38;5;241m.\u001b[39mencoding \u001b[38;5;129;01mand\u001b[39;00m \u001b[38;5;124m\"\u001b[39m\u001b[38;5;124mb\u001b[39m\u001b[38;5;124m\"\u001b[39m \u001b[38;5;129;01mnot\u001b[39;00m \u001b[38;5;129;01min\u001b[39;00m ioargs\u001b[38;5;241m.\u001b[39mmode:\n\u001b[0;32m    858\u001b[0m         \u001b[38;5;66;03m# Encoding\u001b[39;00m\n\u001b[1;32m--> 859\u001b[0m         handle \u001b[38;5;241m=\u001b[39m \u001b[38;5;28mopen\u001b[39m(\n\u001b[0;32m    860\u001b[0m             handle,\n\u001b[0;32m    861\u001b[0m             ioargs\u001b[38;5;241m.\u001b[39mmode,\n\u001b[0;32m    862\u001b[0m             encoding\u001b[38;5;241m=\u001b[39mioargs\u001b[38;5;241m.\u001b[39mencoding,\n\u001b[0;32m    863\u001b[0m             errors\u001b[38;5;241m=\u001b[39merrors,\n\u001b[0;32m    864\u001b[0m             newline\u001b[38;5;241m=\u001b[39m\u001b[38;5;124m\"\u001b[39m\u001b[38;5;124m\"\u001b[39m,\n\u001b[0;32m    865\u001b[0m         )\n\u001b[0;32m    866\u001b[0m     \u001b[38;5;28;01melse\u001b[39;00m:\n\u001b[0;32m    867\u001b[0m         \u001b[38;5;66;03m# Binary mode\u001b[39;00m\n\u001b[0;32m    868\u001b[0m         handle \u001b[38;5;241m=\u001b[39m \u001b[38;5;28mopen\u001b[39m(handle, ioargs\u001b[38;5;241m.\u001b[39mmode)\n",
      "\u001b[1;31mFileNotFoundError\u001b[0m: [Errno 2] No such file or directory: 'C:/Users/svenj/Documents/Uni/Bachelorarbeit/Codes/data_all_reset.csv'"
     ]
    }
   ],
   "source": [
    "# load preprocessed data\n",
    "file_path = 'C:/Users/svenj/Documents/Uni/Bachelorarbeit/Codes/data_all_reset.csv'\n",
    "data_all_reset = pd.read_csv(file_path)\n",
    "data_all_reset"
   ]
  },
  {
   "cell_type": "markdown",
   "id": "26fae5f1",
   "metadata": {},
   "source": [
    "## Remove unnessecary columns\n",
    "Explanation of parameters see FlowCam Documentation."
   ]
  },
  {
   "cell_type": "code",
   "execution_count": null,
   "id": "7524ef09-325b-434a-a3dd-15508bac2ed5",
   "metadata": {},
   "outputs": [],
   "source": [
    "columns_to_drop = ['Particle ID','Average Blue', 'Average Green', 'Average Red','Calibration Factor','Calibration Image','Camera', 'Capture X', 'Capture Y', 'Ch1 Area', 'Ch1 Peak', 'Ch1 Width', 'Ch2 Area', 'Ch2 Peak', 'Ch2 Width', 'Ch2/Ch1 Ratio', 'Date', 'Ratio Blue/Green','Ratio Red/Blue', 'Ratio Red/Green','Date','Elapsed Time', 'Filter Score', 'Image File', 'Original Reference ID', 'Scatter Area', 'Scatter Peak', 'Scatter Width', 'Source Image', 'Sphere Complement', 'Sphere Count', 'Sphere Unknown', 'Sphere Volume','Time', 'Timestamp', 'path']\n",
    "data_wrong= data_all_reset.drop(columns=columns_to_drop)"
   ]
  },
  {
   "cell_type": "code",
   "execution_count": null,
   "id": "028a4ef9",
   "metadata": {},
   "outputs": [],
   "source": [
    "print(data_wrong[data_wrong.Class == 'ANCR'].shape[0])\n",
    "print(data_wrong[data_wrong.Class == 'NELU'].shape[0])\n",
    "print(data_wrong[data_wrong.Class == 'TRSP'].shape[0])\n",
    "print(data_wrong[data_wrong.Class == 'ANLO'].shape[0])\n",
    "print(data_wrong[data_wrong.Class == 'TEMA'].shape[0])\n",
    "print(data_wrong[data_wrong.Class == 'LUCU'].shape[0])"
   ]
  },
  {
   "cell_type": "code",
   "execution_count": null,
   "id": "af317e89-325e-46c2-bfec-383c772c281b",
   "metadata": {},
   "outputs": [],
   "source": [
    "data_wrong.Class.unique()\n",
    "data_wrong"
   ]
  },
  {
   "cell_type": "code",
   "execution_count": null,
   "id": "02998101-8de1-40bc-9dba-e9d0ec14836b",
   "metadata": {},
   "outputs": [],
   "source": [
    "# drop all samples with label WRONG and Debris\n",
    "data = data_wrong.drop(data_wrong[data_wrong.Class == 'WRONG'].index, inplace=False)\n",
    "data"
   ]
  },
  {
   "cell_type": "code",
   "execution_count": null,
   "id": "81e4cfd7-37c8-4a9f-8600-361db667f2f7",
   "metadata": {},
   "outputs": [],
   "source": [
    "print(data[data.Class == 'ANCR'].shape[0])\n",
    "print(data[data.Class == 'NELU'].shape[0])\n",
    "print(data[data.Class == 'TRSP'].shape[0])\n",
    "print(data[data.Class == 'ANLO'].shape[0])\n",
    "print(data[data.Class == 'TEMA'].shape[0])\n",
    "print(data[data.Class == 'LUCU'].shape[0])\n",
    "print(data[data.Class == 'DEBRIS'].shape[0])"
   ]
  },
  {
   "cell_type": "code",
   "execution_count": null,
   "id": "9ad40099-c656-42e0-925c-ca8852599ffb",
   "metadata": {},
   "outputs": [],
   "source": [
    "data.Class.unique()"
   ]
  },
  {
   "cell_type": "code",
   "execution_count": null,
   "id": "da2f1fa1-2e82-46bf-b75c-928a130abe99",
   "metadata": {},
   "outputs": [],
   "source": [
    "data.head()"
   ]
  },
  {
   "cell_type": "code",
   "execution_count": null,
   "id": "ad4a7e50-6a52-4975-805f-192600df0b1c",
   "metadata": {},
   "outputs": [],
   "source": [
    "data.info()"
   ]
  },
  {
   "cell_type": "markdown",
   "id": "87af8510-ee7d-4947-bc52-6e411dc075bd",
   "metadata": {
    "tags": []
   },
   "source": [
    "## Drop missing data"
   ]
  },
  {
   "cell_type": "code",
   "execution_count": null,
   "id": "96f8eb04-6b5d-40e9-822b-8cd385a09303",
   "metadata": {
    "tags": []
   },
   "outputs": [],
   "source": [
    "data.isnull().sum()"
   ]
  },
  {
   "cell_type": "markdown",
   "id": "10681973-3b75-47c5-8cda-ca4ef242e1f3",
   "metadata": {},
   "source": [
    "#### -> no missing values"
   ]
  },
  {
   "cell_type": "markdown",
   "id": "0f93f534-8e92-4a73-956b-d62c6cec7315",
   "metadata": {
    "tags": []
   },
   "source": [
    "## Handle categorical data"
   ]
  },
  {
   "cell_type": "code",
   "execution_count": null,
   "id": "ffb9e3af",
   "metadata": {},
   "outputs": [],
   "source": [
    "print(data.dtypes)"
   ]
  },
  {
   "cell_type": "markdown",
   "id": "d1d27c6c",
   "metadata": {},
   "source": [
    "#### no categorical data apart from class label"
   ]
  },
  {
   "cell_type": "markdown",
   "id": "bdc57da1-9f7a-4352-b4de-e0404c7f4ca5",
   "metadata": {},
   "source": [
    "# Train-Test split "
   ]
  },
  {
   "cell_type": "code",
   "execution_count": null,
   "id": "78732e3b",
   "metadata": {},
   "outputs": [],
   "source": [
    "from sklearn import datasets\n",
    "X = data.drop(columns=[\"Class\"])"
   ]
  },
  {
   "cell_type": "code",
   "execution_count": null,
   "id": "e00b4ebd",
   "metadata": {},
   "outputs": [],
   "source": [
    "from sklearn.preprocessing import LabelEncoder\n",
    "label_encoder = LabelEncoder()\n",
    "y = label_encoder.fit_transform(data['Class'])\n",
    "class_names = label_encoder.classes_.astype(str)"
   ]
  },
  {
   "cell_type": "code",
   "execution_count": null,
   "id": "9053b670-c758-4198-b2cf-bf3ab15cff09",
   "metadata": {
    "tags": []
   },
   "outputs": [],
   "source": [
    "from sklearn.model_selection import train_test_split, cross_val_score\n",
    "\n",
    "X_train, X_test, y_train, y_test = train_test_split(\n",
    "    X, y, test_size=0.3, random_state=1, stratify=y)\n"
   ]
  },
  {
   "cell_type": "code",
   "execution_count": null,
   "id": "1c09632c-cf80-48e4-86e0-7dbba234ed68",
   "metadata": {},
   "outputs": [],
   "source": [
    "from collections import defaultdict\n",
    "\n",
    "# map encoded labels back to their original class names\n",
    "label_to_class = {i: class_name for i, class_name in enumerate(class_names)}\n",
    "\n",
    "train_class_counts = defaultdict(int)\n",
    "test_class_counts = defaultdict(int)\n",
    "\n",
    "for encoded_label in y_train:\n",
    "    class_name = label_to_class[encoded_label]\n",
    "    train_class_counts[class_name] += 1\n",
    "\n",
    "for encoded_label in y_test:\n",
    "    class_name = label_to_class[encoded_label]\n",
    "    test_class_counts[class_name] += 1\n",
    "\n",
    "print('Number of samples in training set:')\n",
    "for class_name, count in train_class_counts.items():\n",
    "    print(f\"{class_name}: {count}\")\n",
    "\n",
    "print('\\nNumber of samples in test set:')\n",
    "for class_name, count in test_class_counts.items():\n",
    "    print(f\"{class_name}: {count}\")"
   ]
  },
  {
   "cell_type": "markdown",
   "id": "bb2fa8ca-ef98-4595-8945-4eb6a127e560",
   "metadata": {},
   "source": [
    "# Create, train and visualize the decision tree"
   ]
  },
  {
   "cell_type": "code",
   "execution_count": null,
   "id": "b330281f-2347-444e-9bff-7b9021a47f3f",
   "metadata": {
    "tags": []
   },
   "outputs": [],
   "source": [
    "from sklearn.tree import DecisionTreeClassifier\n",
    "import matplotlib.pyplot as plt\n",
    "\n",
    "#create the tree\n",
    "tree = DecisionTreeClassifier(criterion='entropy', max_depth=20, random_state=1)\n",
    "\n",
    "#fit the tree with training set\n",
    "tree.fit(X_train, y_train)\n",
    "\n",
    "# cross-validation\n",
    "cross_val_score(tree, X_train, y_train, cv=7)\n"
   ]
  },
  {
   "cell_type": "code",
   "execution_count": null,
   "id": "1540d183-41c7-4e3d-9666-638ec67a492b",
   "metadata": {},
   "outputs": [],
   "source": [
    "type(X_test)\n",
    "X_test_orig = X_test"
   ]
  },
  {
   "cell_type": "code",
   "execution_count": null,
   "id": "c95e798c-3c7d-48b7-9c2e-20d31379d723",
   "metadata": {},
   "outputs": [],
   "source": [
    "#test with test data\n",
    "print(metrics.accuracy_score(y_test, tree.predict(X_test)))\n",
    "print(metrics.classification_report(y_test, tree.predict(X_test)))"
   ]
  },
  {
   "cell_type": "markdown",
   "id": "bf1570bc-f58c-427c-a85b-c851a219b46e",
   "metadata": {},
   "source": [
    "## Optimization on test sets"
   ]
  },
  {
   "cell_type": "markdown",
   "id": "d34548f7-63de-42ee-9e5c-f794f7d3287a",
   "metadata": {},
   "source": [
    "### Load selected features"
   ]
  },
  {
   "cell_type": "code",
   "execution_count": null,
   "id": "900037de-2186-452e-b4d2-2589cc95d33d",
   "metadata": {},
   "outputs": [],
   "source": [
    "import pickle\n",
    "# Load the saved feature indices\n",
    "with open('features/features_IMbalanced_DEBRIS.pkl', 'rb') as f:\n",
    "    selected_features = pickle.load(f)"
   ]
  },
  {
   "cell_type": "code",
   "execution_count": null,
   "id": "65a877cd-4aee-4eba-8880-73eb0e3a5008",
   "metadata": {},
   "outputs": [],
   "source": [
    "# drop columns that have low feature importances from training and validation sets\n",
    "X_train_drop = X_train[selected_features]\n",
    "X_test_drop = X_test[selected_features]\n",
    "\n",
    "# train new tree with cut training set\n",
    "cut_clf = DecisionTreeClassifier(criterion='entropy', max_depth=20, random_state=1)\n",
    "cut_clf.fit(X_train_drop, y_train)\n",
    "\n",
    "# validate with test set\n",
    "print(metrics.accuracy_score(y_test, cut_clf.predict(X_test_drop)))"
   ]
  },
  {
   "cell_type": "code",
   "execution_count": null,
   "id": "41d26ca3-2dd7-463d-9a06-911937b97bcd",
   "metadata": {},
   "outputs": [],
   "source": [
    "print(metrics.classification_report(y_train, cut_clf.predict(X_train_drop)))\n",
    "print(metrics.classification_report(y_test, cut_clf.predict(X_test_drop)))"
   ]
  },
  {
   "cell_type": "markdown",
   "id": "078983fc-d774-4d07-8893-e9febf8b2e0c",
   "metadata": {},
   "source": [
    "#### Check for overfitting"
   ]
  },
  {
   "cell_type": "code",
   "execution_count": null,
   "id": "0a95d3d3",
   "metadata": {},
   "outputs": [],
   "source": [
    "print('Accuracy on the training set:', metrics.accuracy_score(y_train, cut_clf.predict(X_train_drop)))\n",
    "print('Accuracy on the test set:', metrics.accuracy_score(y_test, cut_clf.predict(X_test_drop)))\n",
    "\n",
    "print('F1 Score on the training set (macro):', metrics.f1_score(y_train, cut_clf.predict(X_train_drop), average='macro'))\n",
    "print('F1 Score on the test set (macro):', metrics.f1_score(y_test, cut_clf.predict(X_test_drop), average='macro'))\n",
    "\n",
    "print('F1 Score on the training set (weighted):', metrics.f1_score(y_train, cut_clf.predict(X_train_drop), average='weighted'))\n",
    "print('F1 Score on the test set (weighted):', metrics.f1_score(y_test, cut_clf.predict(X_test_drop), average='weighted'))\n"
   ]
  },
  {
   "cell_type": "code",
   "execution_count": null,
   "id": "8a25da49-9a35-4124-9721-ba8c43e98458",
   "metadata": {},
   "outputs": [],
   "source": [
    "X_train = X_train_drop\n",
    "X_test= X_test_drop\n",
    "best_tree = cut_clf"
   ]
  },
  {
   "cell_type": "markdown",
   "id": "b467fda0-5c66-4ec3-8b97-0dbab0dc1d5c",
   "metadata": {},
   "source": [
    "### Load the trained tree from file"
   ]
  },
  {
   "cell_type": "code",
   "execution_count": null,
   "id": "d4ecd534-905c-4b66-a5ad-d24a869df5cc",
   "metadata": {},
   "outputs": [],
   "source": [
    "from joblib import dump, load\n",
    "best_tree = load('./trees/tree_IMbalanced_DEBRIS.joblib')\n",
    "best_tree.fit(X_train, y_train)"
   ]
  },
  {
   "cell_type": "markdown",
   "id": "1d8b41ab-bd1a-4996-b5ad-0c5306c01691",
   "metadata": {},
   "source": [
    "#### Check for overfitting again"
   ]
  },
  {
   "cell_type": "code",
   "execution_count": null,
   "id": "7243ba55-e7b2-444a-9a0b-cf63415ef06e",
   "metadata": {},
   "outputs": [],
   "source": [
    "print('Accuracy on the training set:', metrics.accuracy_score(y_train, best_tree.predict(X_train)))\n",
    "print('Accuracy on the test set:', metrics.accuracy_score(y_test, best_tree.predict(X_test)))\n",
    "\n",
    "print('F1 Score on the training set (macro):', metrics.f1_score(y_train, best_tree.predict(X_train), average='macro'))\n",
    "print('F1 Score on the test set (macro):', metrics.f1_score(y_test, best_tree.predict(X_test), average='macro'))\n",
    "\n",
    "print('F1 Score on the training set (weighted):', metrics.f1_score(y_train, best_tree.predict(X_train), average='weighted'))\n",
    "print('F1 Score on the test set (weighted):', metrics.f1_score(y_test, best_tree.predict(X_test), average='weighted'))\n"
   ]
  },
  {
   "cell_type": "markdown",
   "id": "2de1190a-c5b6-4428-8cd7-d09ad84abed2",
   "metadata": {},
   "source": [
    "# Visualisation"
   ]
  },
  {
   "cell_type": "code",
   "execution_count": null,
   "id": "a6a69dce",
   "metadata": {},
   "outputs": [],
   "source": [
    "from sklearn.tree import plot_tree\n",
    "import matplotlib.pyplot as plt\n",
    "\n",
    "plt.figure(figsize=(100,30)) \n",
    "plot_tree(best_tree, filled=True, feature_names=X_train.columns, class_names=class_names, rounded = True, fontsize=7)\n",
    "plt.title('Decision Tree \"Imalanced / Debris\"', fontsize=30, pad=20)\n",
    "plt.savefig('DecisionTree_IMbalanced_DEBRIS.png',dpi=300)\n",
    "plt.show()\n",
    "#tree fit to training data"
   ]
  },
  {
   "cell_type": "markdown",
   "id": "75c1b787-2edc-4f77-b800-155ec396781e",
   "metadata": {},
   "source": [
    "## Prediction on test set"
   ]
  },
  {
   "cell_type": "code",
   "execution_count": null,
   "id": "990ab197-1e14-4fd4-9a5b-28d305bc954b",
   "metadata": {},
   "outputs": [],
   "source": [
    "# use model with test data\n",
    "predictions = best_tree.predict(X_test)\n",
    "print(metrics.classification_report(y_test, best_tree.predict(X_test)))"
   ]
  },
  {
   "cell_type": "code",
   "execution_count": null,
   "id": "e46cc115-c810-4fb1-be28-450fc6b061b0",
   "metadata": {},
   "outputs": [],
   "source": [
    "predictions_decoded = label_encoder.inverse_transform(predictions)\n",
    "predictions_decoded"
   ]
  },
  {
   "cell_type": "code",
   "execution_count": null,
   "id": "9d74d6d2-c033-40cd-8158-8b7b4854f6c3",
   "metadata": {},
   "outputs": [],
   "source": [
    "unique_values, counts = np.unique(predictions_decoded, return_counts=True)\n",
    "for value, count in zip(unique_values, counts):\n",
    "    print(f\"{value}: {count}\")"
   ]
  },
  {
   "cell_type": "code",
   "execution_count": null,
   "id": "33910091-df3c-44e2-af27-816f81f8c94e",
   "metadata": {},
   "outputs": [],
   "source": [
    "from sklearn.metrics import classification_report\n",
    "\n",
    "# test difference between untuned and tuned tree for test data\n",
    "print('Classification report for the original tree:')\n",
    "print()\n",
    "print(metrics.classification_report(y_test, tree.predict(X_test_orig)))\n",
    "print('Classification report for the tuned tree:')\n",
    "print()\n",
    "print(metrics.classification_report(y_test, best_tree.predict(X_test)))\n",
    "\n",
    "with open('classification_report_IMbalanced_DEBRIS.txt', 'w') as file:\n",
    "    file.write(metrics.classification_report(y_test, best_tree.predict(X_test)))"
   ]
  },
  {
   "cell_type": "code",
   "execution_count": null,
   "id": "3d31c701-1adb-4e45-958f-a69f03406bfe",
   "metadata": {},
   "outputs": [],
   "source": [
    "import matplotlib.pyplot as plt\n",
    "import seaborn as sns\n",
    "import numpy as np\n",
    "from sklearn.metrics import confusion_matrix\n",
    "custom_font = \"Century Schoolbook\"  \n",
    "\n",
    "# Calculate confusion matrix\n",
    "conf_matrix = confusion_matrix(y_test, predictions)\n",
    "\n",
    "row_sums = conf_matrix.sum(axis=1)\n",
    "\n",
    "class_names = class_names.tolist() if isinstance(class_names, np.ndarray) else class_names\n",
    "class_names_with_sum = class_names + ['Sum']\n",
    "\n",
    "fig, ax = plt.subplots(figsize=(7, 6.2))\n",
    "sns.heatmap(conf_matrix, annot=True, fmt='d', cmap='Blues', cbar=False, \n",
    "            annot_kws={\"fontsize\": 12, \"fontfamily\": custom_font}, ax=ax, linewidths=.5)\n",
    "\n",
    "plt.title('Confusion Matrix \"Imbalanced / Debris\"', fontsize=12, pad=20, fontfamily=custom_font)\n",
    "plt.xlabel('Predicted Label', labelpad=20, fontsize=12, fontfamily=custom_font)\n",
    "plt.ylabel('True Label', labelpad=20, fontsize=12, fontfamily=custom_font)\n",
    "\n",
    "plt.xticks(ticks=np.arange(len(class_names_with_sum)) + 0.5, labels=class_names_with_sum, fontsize=10, fontfamily=custom_font, rotation=0)\n",
    "plt.yticks(ticks=np.arange(len(class_names)) + 0.5, labels=class_names, rotation=0, fontsize=10, fontfamily=custom_font)\n",
    "\n",
    "for i, sum_value in enumerate(row_sums):\n",
    "    ax.text(len(class_names) + 0.5, i + 0.5, sum_value, ha='center', va='center', fontsize=12, fontfamily=custom_font, weight='bold', color='black')\n",
    "\n",
    "plt.axvline(x=len(class_names), color='black', linewidth=2)\n",
    "\n",
    "for tick in ax.get_xticklabels():\n",
    "    if tick.get_text() == 'Sum':\n",
    "        tick.set_weight('bold')\n",
    "\n",
    "ax.tick_params(axis='y', which='both', length=0) \n",
    "ax.tick_params(axis='x', which='both', length=0)\n",
    "plt.tight_layout() \n",
    "\n",
    "plt.savefig('confusion_matrix_imbalanced_DEBRIS.png', dpi=300, bbox_inches='tight')\n",
    "plt.show()\n"
   ]
  },
  {
   "cell_type": "code",
   "execution_count": null,
   "id": "6afce850-7808-4c20-90fd-4d432a65f551",
   "metadata": {},
   "outputs": [],
   "source": [
    "import seaborn as sns\n",
    "import matplotlib.pyplot as plt\n",
    "from sklearn.metrics import confusion_matrix\n",
    "\n",
    "# Calculate the confusion matrix\n",
    "conf_matrix = confusion_matrix(y_test, predictions)\n",
    "\n",
    "conf_matrix_percent = conf_matrix.astype(float) / conf_matrix.sum(axis=1)[:, np.newaxis]\n",
    "\n",
    "sns.set_context('talk')\n",
    "\n",
    "fig, ax = plt.subplots(figsize=(7,7))\n",
    "sns.heatmap(conf_matrix_percent, annot=True, fmt='.2f', cmap='Blues', cbar=False, annot_kws={\"fontsize\": 10}, ax=ax)\n",
    "\n",
    "plt.title('Confusion Matrix \"Imbalanced / Debris\": \\n'\n",
    "    'Proportion of True Labels Assigned to Predicted Labels', fontsize=12, pad=20)\n",
    "plt.xlabel('Predicted Label', labelpad=20, fontsize=12)\n",
    "plt.ylabel('True Label', labelpad=20, fontsize=12)\n",
    "\n",
    "plt.xticks(ticks=np.arange(len(class_names)) + 0.5, labels=class_names, fontsize=10)\n",
    "plt.yticks(ticks=np.arange(len(class_names)) + 0.5, labels=class_names, rotation=0, fontsize=10)\n",
    "\n",
    "ax.tick_params(axis='y', which='both', length=0) \n",
    "ax.tick_params(axis='x', which='both', length=0)\n",
    "plt.tight_layout() \n",
    "\n",
    "plt.savefig('confusion_matrix_proportions_imbalanced_DEBRIS.png', dpi=300, bbox_inches='tight')\n",
    "plt.show()"
   ]
  },
  {
   "cell_type": "code",
   "execution_count": null,
   "id": "87983cae-ad12-4325-b9b7-43ad1ac4d0ba",
   "metadata": {},
   "outputs": [],
   "source": [
    "import seaborn as sns\n",
    "import matplotlib.pyplot as plt\n",
    "from sklearn.metrics import confusion_matrix\n",
    "import numpy as np\n",
    "\n",
    "# Calculate the confusion matrix\n",
    "conf_matrix = confusion_matrix(y_test, predictions)\n",
    "\n",
    "conf_matrix_column_norm = conf_matrix.astype(float) / conf_matrix.sum(axis=0)\n",
    "\n",
    "sns.set_context('talk')\n",
    "\n",
    "fig, ax = plt.subplots(figsize=(7,7))\n",
    "sns.heatmap(conf_matrix_column_norm, annot=True, fmt='.2f', cmap='Blues', cbar=False, annot_kws={\"fontsize\": 10}, ax=ax)\n",
    "\n",
    "plt.title('Confusion Matrix \"Imbalanced / Debris\": \\n'\n",
    "    'Proportion of Predicted Labels Assigned to True Labels', fontsize=12, pad=20)\n",
    "plt.xlabel('Predicted Label', labelpad=20, fontsize=12)\n",
    "plt.ylabel('True Label', labelpad=20, fontsize=12)\n",
    "\n",
    "plt.xticks(ticks=np.arange(len(class_names)) + 0.5, labels=class_names, fontsize=10)\n",
    "plt.yticks(ticks=np.arange(len(class_names)) + 0.5, labels=class_names, rotation=0, fontsize=10)\n",
    "\n",
    "ax.tick_params(axis='y', which='both', length=0)  \n",
    "ax.tick_params(axis='x', which='both', length=0)\n",
    "plt.tight_layout() \n",
    "\n",
    "plt.savefig('confusion_matrix_column_normalized_imbalanced_DEBRIS.png', dpi=300, bbox_inches='tight')\n",
    "plt.show()"
   ]
  },
  {
   "cell_type": "code",
   "execution_count": null,
   "id": "233f193c-a44b-4c47-8e51-a993b2c06603",
   "metadata": {},
   "outputs": [],
   "source": [
    "predictions_decoded = label_encoder.inverse_transform(predictions)\n",
    "\n",
    "data_results = data_all_reset.loc[X_test.index].copy() \n",
    "\n",
    "data_results = data_results.rename(columns={'Class': 'True Label'})\n",
    "data_results = data_results[['path','Particle ID','True Label']]\n",
    "\n",
    "data_results.loc[:, 'Predictions'] = predictions_decoded"
   ]
  },
  {
   "cell_type": "code",
   "execution_count": null,
   "id": "a7163d4f-d648-414e-b883-cce077483c6d",
   "metadata": {},
   "outputs": [],
   "source": [
    "pd.set_option('display.max_colwidth', None) \n",
    "data_results\n",
    "data_results.to_csv('C:/Users/svenj/Documents/Uni/Bachelorarbeit/Codes/tree_IMbalanced_DEBRIS_results.csv', index=False)"
   ]
  },
  {
   "cell_type": "code",
   "execution_count": null,
   "id": "75790da5-e8d0-40de-8992-938d2520718a",
   "metadata": {},
   "outputs": [],
   "source": [
    "class_labels = ['DEBRIS', 'ANCR', 'TEMA', 'NELU', 'LUCU', 'TRSP']\n",
    "\n",
    "split_dfs = {}"
   ]
  },
  {
   "cell_type": "code",
   "execution_count": null,
   "id": "dd0089db-3f0e-4694-8b81-63bb3ede38d2",
   "metadata": {},
   "outputs": [],
   "source": [
    "import os\n",
    "import shutil\n",
    "import pandas as pd\n",
    "\n",
    "# Load the CSV file\n",
    "file_path = 'C:/Users/svenj/Documents/Uni/Bachelorarbeit/Codes/tree_IMbalanced_DEBRIS_results.csv'\n",
    "data_results = pd.read_csv(file_path)\n",
    "\n",
    "base_source_folder = 'C:/Users/svenj/Documents/Uni/Bachelorarbeit/Codes/Daten'\n",
    "\n",
    "base_destination_folder = 'C:/Users/svenj/Documents/Uni/Bachelorarbeit/Codes/mismatched_IMbalanced_DEBRIS'\n",
    "\n",
    "if not os.path.exists(base_destination_folder):\n",
    "    os.makedirs(base_destination_folder)\n",
    "\n",
    "def generate_image_path(row):\n",
    "    path = row['path'].replace('\\\\', '/') \n",
    "    particle_id = row['Particle ID'] - 1  \n",
    "\n",
    "    images_folder = 'images'\n",
    "    \n",
    "    folder, filename = os.path.split(path)\n",
    "    \n",
    "    name, ext = os.path.splitext(filename)\n",
    "    \n",
    "    new_filename = f\"{name}_{particle_id:05d}.png\"\n",
    "    \n",
    "    new_path = os.path.join(folder, images_folder, new_filename)\n",
    "    \n",
    "    return new_path\n",
    "\n",
    "def copy_image(row, destination_folder):\n",
    "    src_image_path = generate_image_path(row)\n",
    "    \n",
    "    if not os.path.isfile(src_image_path):\n",
    "        print(f\"File not found: {src_image_path}\")\n",
    "        return\n",
    "    \n",
    "    true_label = row['True Label']\n",
    "    pred_label = row['Predictions']\n",
    "    \n",
    "    if true_label == pred_label:\n",
    "        return\n",
    "    \n",
    "    dest_folder_name = f\"true_{true_label}_pred_{pred_label}\"\n",
    "    dest_folder = os.path.join(destination_folder, dest_folder_name)\n",
    "    if not os.path.exists(dest_folder):\n",
    "        os.makedirs(dest_folder)\n",
    "    \n",
    "    dest_image_path = os.path.join(dest_folder, os.path.basename(src_image_path))\n",
    "    \n",
    "    shutil.copy2(src_image_path, dest_image_path)\n",
    "    \n",
    "missing_files = 0\n",
    "for index, row in data_results.iterrows():\n",
    "    new_image_path = generate_image_path(row)\n",
    "    \n",
    "    try:\n",
    "        copy_image(row, base_destination_folder)\n",
    "    except Exception as e:\n",
    "        print(f\"Error processing row {index}: {e}\")\n",
    "        missing_files += 1\n",
    "\n",
    "print(f\"Total missing files: {missing_files}\")"
   ]
  },
  {
   "cell_type": "code",
   "execution_count": null,
   "id": "e4dbdf56-eee2-41a7-995e-e21db198319f",
   "metadata": {},
   "outputs": [],
   "source": []
  }
 ],
 "metadata": {
  "kernelspec": {
   "display_name": "Python 3 (ipykernel)",
   "language": "python",
   "name": "python3"
  },
  "language_info": {
   "codemirror_mode": {
    "name": "ipython",
    "version": 3
   },
   "file_extension": ".py",
   "mimetype": "text/x-python",
   "name": "python",
   "nbconvert_exporter": "python",
   "pygments_lexer": "ipython3",
   "version": "3.11.5"
  }
 },
 "nbformat": 4,
 "nbformat_minor": 5
}
